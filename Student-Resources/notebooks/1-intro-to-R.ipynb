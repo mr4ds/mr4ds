{
 "cells": [
  {
   "cell_type": "code",
   "execution_count": null,
   "metadata": {
    "Rmd_chunk_options": "global_options, include=FALSE",
    "autoscroll": false,
    "collapsed": true
   },
   "outputs": [],
   "source": [
    "knitr::opts_chunk$set(warning=FALSE, message=FALSE, fig.align = 'center')"
   ]
  },
  {
   "cell_type": "markdown",
   "metadata": {},
   "source": [
    "\n",
    "# Course Logistics\n",
    "\n",
    "## Day One\n",
    "\n",
    "### R U Ready?\n",
    "\n",
    "* Overview of The R Project for Statistical Computing\n",
    "* The Microsoft R Family\n",
    "* R's capabilities and it's limitations\n",
    "* What types of problems R might be useful for\n",
    "* How to manage data with the exceptionally popular open source package `dplyr`\n",
    "* How to develop models and write functions in R\n",
    "\n",
    "## Day Two\n",
    "\n",
    "### Scalable Data Analysis with Microsoft R\n",
    "\n",
    "* Moving the compute to your data\n",
    "* WODA - Write Once, Deploy Anywhere\n",
    "* High Performance Analytics\n",
    "* High Performance Computing\n",
    "* Machine Learning with Microsoft R\n",
    "\n",
    "## Day Three\n",
    "\n",
    "### Distributing Computing on Spark Clusters with R\n",
    "\n",
    "* Overview of the Apache Spark Project\n",
    "* Taming the Hadoop Zoo with HDInsight\n",
    "* Provisioing and Managing HDInsight Clusters\n",
    "* Spark DataFrames, `SparkR`, and the `sparklyr` package\n",
    "* Developing Machine Learning Pipelines with `Spark` and Microsoft R\n",
    "\n",
    "## Prerequisites\n",
    "### Computing Environments\n",
    "\n",
    "* R Server 8.0.5 or above\n",
    "* Azure Credits\n",
    "* Can use the [Linux DSVM](https://azure.microsoft.com/en-us/documentation/articles/machine-learning-data-science-linux-dsvm-intro/)\n",
    "* Or the [Windows DSVM](https://azure.microsoft.com/en-us/documentation/articles/machine-learning-data-science-provision-vm/)\n",
    "* For IDE: use [RTVS](https://www.visualstudio.com/vs/rtvs/), [RStudio Server](https://www.rstudio.com/products/rstudio/download3/), [JupyterHub](https://jupyterhub.readthedocs.io/en/latest/), [JupyterLab](http://jupyterlab-tutorial.readthedocs.io/en/latest/)...\n",
    "    + Whatever you're comfortable with!\n",
    "\n",
    "## Development Environments\n",
    "### Where to Write R Code\n",
    "\n",
    "* The most popular integrated development environment for R is [RStudio](https://www.rstudio.com/)\n",
    "* The RStudio IDE is entirely html/javascript based, so completely cross-platform\n",
    "* RStudio Server provides a full IDE in your browser: perfect for cloud instances\n",
    "* For Windows machines, we have recently announced the general availability of [R Tools for Visual Studio, RTVS](https://www.visualstudio.com/en-us/features/rtvs-vs.aspx)\n",
    "* RTVS supports connectivity to Azure and SQL Server\n",
    "\n",
    "\n",
    "## What is R?\n",
    "### Why should I care?\n",
    "\n",
    "* R is the successor to the S Language, originated at Bell Labs AT&T\n",
    "* It is based on the Scheme interpreter\n",
    "* Originally designed by two University of Auckland Professors for their introductory statistics course\n",
    "\n",
    "![Robert Gentleman and Ross Ihaka](http://revolution-computing.typepad.com/.a/6a010534b1db25970b016766fdae38970b-800wi)\n",
    "\n",
    "## R's Philosophy\n",
    "### What R Thou?\n",
    "\n",
    "R follows the [Unix philosophy](http://en.wikipedia.org/wiki/Unix_philosophy)\n",
    "\n",
    "* Write programs that do one thing and do it well (modularity)\n",
    "* Write programs that work together (cohesiveness)\n",
    "* R is extensible with more than 10,000 packages available at CRAN (http://crantastic.org/packages)\n",
    "\n",
    "\n",
    "## The aRt of Being Lazy\n",
    "### Lazy Evaluation in R\n",
    "\n",
    "![](http://i.imgur.com/5GbW690.gif)\n",
    "\n",
    "\n",
    "* R, like it's inspiration, Scheme, is a _functional_ programming language\n",
    "* R evaluates lazily, delaying evaluation until necessary, which can make it very flexible\n",
    "* R is a highly interpreted dynamically typed language, allowing you to mutate variables and analyze datasets quickly, but is significantly slower than low-level, statically typed languages like C or Java\n",
    "* R has a high memory footprint, and can easily lead to crashes if you aren't careful\n",
    "\n",
    "## R's Programming Paradigm\n",
    "### Keys to R\n",
    "\n",
    "<span class=\"fragment\">Everything that exist in R is an *object*</span>\n",
    "<br>\n",
    "<span class=\"fragment\">Everything that happens in R is a *function call*</span>\n",
    "<br>\n",
    "<span class=\"fragment\">R was born to *interface*</span>\n",
    "<br>\n",
    "\n",
    "<span class=\"fragment\">_—John Chambers_</span>\n",
    "\n",
    "## Strengths of R\n",
    "### Where R Succeeds\n",
    "\n",
    "* Expressive\n",
    "* Open source\n",
    "* Extendable -- nearly 10,000 packages with functions to use, and that list continues to grow\n",
    "* Focused on statistics and machine learning -- cutting-edge algorithms and powerful data manipulation packages\n",
    "* Advanced data structures and graphical capabilities\n",
    "* Large user community, both within academia and industry\n",
    "* It is designed by statisticians\n",
    "\n",
    "## Weaknesses of R\n",
    "### Where R Falls Short\n",
    "\n",
    "* It is designed by statisticians\n",
    "* Inefficient at element-by-element computations\n",
    "* May make large demands on system resources, namely memory\n",
    "* Data capacity limited by memory\n",
    "* Single-threaded\n",
    "\n",
    "## Some Essential Open Source Packages\n",
    "\n",
    "* There are over 10,000 R packages to choose from, what do I start with?\n",
    "* Data Management: `dplyr`, `tidyr`, `data.table`\n",
    "* Visualization: `ggplot2`, `ggvis`, `htmlwidgets`, `shiny`\n",
    "* Data Importing: `haven`, `RODBC`, `readr`, `foreign`\n",
    "* Other favorites: `magrittr`, `rmarkdown`, `caret`\n",
    "\n",
    "# R Foundations\n",
    "\n",
    "## Command line prompts\n",
    "\n",
    "Symbol | Meaning\n",
    "------ | -------\n",
    " `<-`   | assignment operator\n",
    "  `>`   | ready for a new command\n",
    "  `+`   | awaiting the completion of an existing command\n",
    "  `?`   | get help for following function\n",
    "\n",
    "Can change options either permanently at startup (see `?Startup`) or manually at each session with the `options` function, `options(repos = \" \")` for example.\n",
    "\n",
    "Check your CRAN mirror with `getOption(\"repos\")`.\n",
    "\n",
    "## I'm Lost!\n",
    "### Getting Help for R\n",
    "\n",
    "* [Stack Overflow](http://stackoverflow.com/questions/tagged/r)\n",
    "* [R Reference Card](https://cran.r-project.org/doc/contrib/Short-refcard.pdf)\n",
    "* [RStudio Cheat Sheets](https://www.rstudio.com/resources/cheatsheets/)\n",
    "* [R help mailing list and archives](https://stat.ethz.ch/mailman/listinfo/r-help)\n",
    "* [Revolutions Blog](http://blog.revolutionanalytics.com/)\n",
    "* [R-Bloggers](http://www.r-bloggers.com/)\n",
    "* [RSeek](rseek.org)\n",
    "* [RDocumentation](https://www.rdocumentation.org/)\n",
    "\n",
    "## Quick Tour of Things You Need to Know\n",
    "### Data Structures\n",
    "\n",
    "> \"Bad programmers worry about the code.\n",
    "> Good programmers worry about data structures and their relationships.\"\n",
    "> - Linus Torvalds\n",
    "\n",
    "* R's data structures can be described by their dimensionality, and their type.\n",
    "\n",
    "\n",
    "|    | Homogeneous   | Heterogeneous |\n",
    "|----|---------------|---------------|\n",
    "| 1d | Atomic vector | List          |\n",
    "| 2d | Matrix        | Data frame    |\n",
    "| nd | Array         |               |\n",
    "\n",
    "## Quick Tour of Things You Need to Know\n",
    "\n",
    "### Data Types\n",
    "\n",
    "* Atomic vectors come in one of four types\n",
    "* `logical` (boolean). Values: `TRUE` | `FALSE`\n",
    "* `integer`\n",
    "* `double` (often called numeric)\n",
    "* `character`\n",
    "* Rare types:\n",
    "* `complex`\n",
    "* `raw`\n",
    "\n",
    "## Manipulating Data Structures\n",
    "\n",
    "### Subsetting Operators\n",
    "\n",
    "* To create a vector, use `c`: `c(1, 4, 1, 3)`\n",
    "* To create a list, use `list`: `list(1, 'hi', data.frame(1:10, letters[1:10]))`\n",
    "* To subset a vector or list, use the `[ ]`\n",
    "  - inside the brackets:\n",
    "    + positive integer vectors for indices you want\n",
    "    + negative integer vectors for indices you want to drop\n",
    "    + logical vectors for indices you want to keep/drop (TRUE/FALSE)\n",
    "    + character vectors for named vectors corresponding to which named elements you want to keep\n",
    "    + subsetting a list with a single square bracket always returns a list\n",
    "+ To subset a list and get back just that element, use `[[ ]]`\n",
    "\n",
    "### Object Representation\n",
    "\n",
    "+ To find the type of an object, use `class` (_higher level representation_)\n",
    "+ To find how the object is stored in memory, use `typeof` (_lower level representation_)\n",
    "+ Good time to do Lab 0!\n",
    "\n",
    "# Data Manipulation with the `dplyr` Package\n",
    "\n",
    "## Overview\n",
    "\n",
    "Rather than describing the nitty gritty details of writing R code, I'd like you to get started at immediately writing R code.\n",
    "\n",
    "As most of you are data scientists/data enthusiasts, I will showcase one of the most useful data manipulation packages in R, `dplyr`.\n",
    "At the end of this session, you will have learned:\n",
    "\n",
    "* How to manipulate data quickly with `dplyr` using a very intuitive _\"grammar\"_\n",
    "* How to use `dplyr` to perform common exploratory analysis data manipulation procedures\n",
    "* How to apply your own custom functions to group manipulations `dplyr` with `mutate()`, `summarise()` and `do()`\n",
    "* Connect to remote databases to work with larger than memory datasets\n",
    "\n",
    "## Why use dplyr?\n",
    "### The Grammar of Data Manipulation\n",
    "\n",
    "* `dplyr` is currently the [most downloaded package](https://www.rdocumentation.org/packages/dplyr/versions/0.5.0?) from CRAN\n",
    "* `dplyr` makes data manipulation easier by providing a few functions for the most common tasks and procedures\n",
    "* `dplyr` achieves remarkable speed-up gains by using a C++ backend\n",
    "* `dplyr` has multiple backends for working with data stored in various sources: SQLite, MySQL, bigquery, SQL Server, and many more\n",
    "* `dplyr` was inspired to give data manipulation a simple, cohesive grammar (similar philosophy to `ggplot` - grammar of graphics)\n",
    "* `dplyr` has inspired many new packages, which now adopt it's easy to understand syntax.\n",
    "* The recent packages `dplyrXdf` and `SparkR/sparklyr` brings much of the same functionality of `dplyr` to `XDF`s data and Spark `DataFrames`\n",
    "\n",
    "\n",
    "## Tidy Data and Happier Coding\n",
    "### Premature Optimization\n",
    "\n",
    "![](https://imgs.xkcd.com/comics/the_general_problem.png)\n",
    "\n",
    "+ For a dats scientist, the most important parameter to optimize in a data science development cycle is YOUR time\n",
    "+ It is therefore important to be able to write efficient code, quickly\n",
    "+ Goals: writing fast code that is: portable, platform invariant, easy to understand, and easy to debug\n",
    "    - __Be serious about CReUse__!\n",
    "\n",
    "## Manipulation verbs\n",
    "\n",
    "`filter`\n",
    "\n",
    ":    select rows based on matching criteria\n",
    "\n",
    "`slice`\n",
    "\n",
    ":    select rows by number\n",
    "\n",
    "`select`\n",
    "\n",
    ":    select columns by column names\n",
    "\n",
    "`arrange`\n",
    "\n",
    ":    reorder rows by column values\n",
    "\n",
    "`mutate`\n",
    "\n",
    ":    add new variables based on transformations of existing variables\n",
    "\n",
    "`transmute`\n",
    "\n",
    ":    transform and drop other variables\n",
    "\n",
    "\n",
    "\n",
    "## Aggregation verbs\n",
    "\n",
    "`group_by`\n",
    "\n",
    ":    identify grouping variables for calculating groupwise summary statistics\n",
    "\n",
    "\n",
    "`count`\n",
    "\n",
    ":    count the number of records per group\n",
    "\n",
    "\n",
    "`summarise` | `summarize`\n",
    "\n",
    ":    calculate one or more summary functions per group, returning one row of results per group (or one for the entire dataset)\n",
    "\n",
    "## NYC Taxi Data\n",
    "### Data for Class\n",
    "\n",
    "* The data we will be examining in this module is dervided from the [NYC Taxi and Limousine Commission](http://www.nyc.gov/html/tlc/html/home/home.shtml)\n",
    "* Data contains taxi trips in NYC, and includes spatial features (pickup and dropoff neighborhoods), temporal features, and monetary features (fare and tip amounts)\n",
    "* The dataset for this module is saved as an _rds_ file in a public facing Azure storage blob\n",
    "* An _rds_ file is a compressed, serialized R object\n",
    "* Save an object to _rds_ by using the `saveRDS` function; read an _rds_ object with the `readRDS` object\n",
    "\n",
    "## Viewing Data\n",
    "### tibble\n",
    "\n",
    "* `dplyr` includes a wrapper called `tbl_df` that adds an additional class attribute onto `data.frames` that provides some better data manipulation aesthetics (there's now a dedicated package [`tibble`](www.github.com/hadley/tibble) for this wrapper and it's class)\n",
    "* Most noticeable differential between `tbl_df` and `data.frame`s is the console output: `tbl_df`s will only print what the current R console window can display\n",
    "* Can change the default setting for number of displayed columns by changing the options parameter: `options(dplyr.width = Inf)`\n",
    "\n"
   ]
  },
  {
   "cell_type": "code",
   "execution_count": null,
   "metadata": {
    "autoscroll": false,
    "collapsed": true
   },
   "outputs": [],
   "source": [
    "library(dplyr)\n",
    "library(stringr)\n",
    "taxi_url <- \"http://alizaidi.blob.core.windows.net/training/taxi_df.rds\"\n",
    "taxi_df  <- readRDS(gzcon(url(taxi_url)))\n",
    "(taxi_df <- tbl_df(taxi_df))"
   ]
  },
  {
   "cell_type": "markdown",
   "metadata": {},
   "source": [
    "\n",
    "# Filtering and Reordering Data\n",
    "\n",
    "## Subsetting Data\n",
    "\n",
    "* `dplyr` makes subsetting by rows very easy\n",
    "* The `filter` verb takes conditions for filtering rows based on conditions\n",
    "* **every** `dplyr` function uses a data.frame/tbl as it's first argument\n",
    "* Additional conditions are passed as new arguments (no need to make an insanely complicated expression, split em up!)\n",
    "\n",
    "## Filter\n",
    "\n"
   ]
  },
  {
   "cell_type": "code",
   "execution_count": null,
   "metadata": {
    "autoscroll": false,
    "collapsed": true
   },
   "outputs": [],
   "source": [
    "filter(taxi_df,\n",
    "       dropoff_dow %in% c(\"Fri\", \"Sat\", \"Sun\"),\n",
    "       tip_amount > 1)"
   ]
  },
  {
   "cell_type": "markdown",
   "metadata": {},
   "source": [
    "\n",
    "## Exercise\n",
    "\n",
    "Your turn:\n",
    "\n",
    "* How many observations started in Harlem?\n",
    "  - pick both sides of Harlem, including east harlem\n",
    "* How many observations that started in Harlem ended in the Financial District?\n",
    "\n",
    "## Solution\n",
    "\n"
   ]
  },
  {
   "cell_type": "code",
   "execution_count": null,
   "metadata": {
    "autoscroll": false,
    "collapsed": true
   },
   "outputs": [],
   "source": [
    "library(stringr)\n",
    "table(taxi_df$pickup_nhood)\n",
    "harlem_pickups <- filter(taxi_df, str_detect(pickup_nhood, \"Harlem\"))\n",
    "harlem_pickups"
   ]
  },
  {
   "cell_type": "markdown",
   "metadata": {},
   "source": [
    "\n",
    "## Select a set of columns\n",
    "\n",
    "* You can use the `select()` verb to specify which columns of a dataset you want\n",
    "* This is similar to the `keep` option in SAS's data step.\n",
    "* Use a colon `:` to select all the columns between two variables (inclusive)\n",
    "* Use `contains` to take any columns containing a certain word/phrase/character\n",
    "\n",
    "## Select Example\n",
    "\n"
   ]
  },
  {
   "cell_type": "code",
   "execution_count": null,
   "metadata": {
    "autoscroll": false,
    "collapsed": true
   },
   "outputs": [],
   "source": [
    "select(taxi_df, pickup_nhood, dropoff_nhood,\n",
    "       fare_amount, dropoff_hour, trip_distance)"
   ]
  },
  {
   "cell_type": "markdown",
   "metadata": {},
   "source": [
    "\n",
    "## Select: Other Options\n",
    "\n",
    "starts_with(x, ignore.case = FALSE)\n",
    "\n",
    ":    name starts with `x`\n",
    "\n",
    "ends_with(x, ignore.case = FALSE)\n",
    "\n",
    ":    name ends with `x`\n",
    "\n",
    "matches(x, ignore.case = FALSE)\n",
    "\n",
    ":    selects all variables whose name matches the regular expression `x`\n",
    "\n",
    "num_range(\"V\", 1:5, width = 1)\n",
    "\n",
    ":    selects all variables (numerically) from `V1` to `V5`.\n",
    "\n",
    "* You can also use a `-` to drop variables.\n",
    "\n",
    "## Reordering Data\n",
    "\n",
    "* You can reorder your dataset based on conditions using the `arrange()` verb\n",
    "* Use the `desc` function to sort in descending order rather than ascending order (default)\n",
    "\n",
    "## Arrange\n",
    "\n"
   ]
  },
  {
   "cell_type": "code",
   "execution_count": null,
   "metadata": {
    "autoscroll": false,
    "collapsed": true
   },
   "outputs": [],
   "source": [
    "select(arrange(taxi_df, desc(fare_amount), pickup_nhood),\n",
    "       fare_amount, pickup_nhood)\n",
    "\n",
    "head(select(arrange(taxi_df, desc(fare_amount), pickup_nhood),\n",
    "       fare_amount, pickup_nhood), 10)"
   ]
  },
  {
   "cell_type": "markdown",
   "metadata": {},
   "source": [
    "\n",
    "\n",
    "\n",
    "\n",
    "## Exercise\n",
    "Use `arrange()` to  sort on the basis of `tip_amount`, `dropoff_nhood`, and `pickup_dow`, with descending order for tip amount\n",
    "\n",
    "## Summary\n",
    "\n",
    "filter\n",
    "\n",
    ":    Extract subsets of rows. See also `slice()`\n",
    "\n",
    "select\n",
    "\n",
    ":    Extract subsets of columns. See also `rename()`\n",
    "\n",
    "arrange\n",
    "\n",
    ":    Sort your data\n",
    "\n",
    "# Data Aggregations and Transformations\n",
    "\n",
    "## Transformations\n",
    "\n",
    "* The `mutate()` verb can be used to make new columns\n",
    "\n"
   ]
  },
  {
   "cell_type": "code",
   "execution_count": null,
   "metadata": {
    "autoscroll": false,
    "collapsed": true
   },
   "outputs": [],
   "source": [
    "taxi_df <- mutate(taxi_df, tip_pct = tip_amount/fare_amount)\n",
    "select(taxi_df, tip_pct, fare_amount, tip_amount)\n",
    "transmute(taxi_df, tip_pct = tip_amount/fare_amount)"
   ]
  },
  {
   "cell_type": "markdown",
   "metadata": {},
   "source": [
    "\n",
    "## Summarise Data by Groups\n",
    "\n",
    "* The `group_by` verb creates a grouping by a categorical variable\n",
    "* Functions can be placed inside `summarise` to create summary functions\n",
    "\n"
   ]
  },
  {
   "cell_type": "code",
   "execution_count": null,
   "metadata": {
    "autoscroll": false,
    "collapsed": true
   },
   "outputs": [],
   "source": [
    "grouped_taxi <- group_by(taxi_df, dropoff_nhood)\n",
    "class(grouped_taxi)\n",
    "grouped_taxi"
   ]
  },
  {
   "cell_type": "code",
   "execution_count": null,
   "metadata": {
    "autoscroll": false,
    "collapsed": true
   },
   "outputs": [],
   "source": [
    "summarize(group_by(taxi_df, dropoff_nhood),\n",
    "          Num = n(), ave_tip_pct = mean(tip_pct))"
   ]
  },
  {
   "cell_type": "markdown",
   "metadata": {},
   "source": [
    "\n",
    "## Group By Neighborhoods Example\n",
    "\n"
   ]
  },
  {
   "cell_type": "code",
   "execution_count": null,
   "metadata": {
    "autoscroll": false,
    "collapsed": true
   },
   "outputs": [],
   "source": [
    "summarise(group_by(taxi_df, pickup_nhood, dropoff_nhood),\n",
    "          Num = n(), ave_tip_pct = mean(tip_pct))"
   ]
  },
  {
   "cell_type": "markdown",
   "metadata": {},
   "source": [
    "\n",
    "## Chaining/Piping\n",
    "\n",
    "* A `dplyr` installation includes the `magrittr` package as a dependency\n",
    "* The `magrittr` package includes a pipe operator that allows you to pass the current dataset to another function\n",
    "* This makes interpreting a nested sequence of operations much easier to understand\n",
    "\n",
    "## Standard Code\n",
    "\n",
    "* Code is executed inside-out.\n",
    "* Let's arrange the above average tips in descending order, and only look at the locations that had at least 10 dropoffs and pickups.\n",
    "\n"
   ]
  },
  {
   "cell_type": "code",
   "execution_count": null,
   "metadata": {
    "autoscroll": false,
    "collapsed": true
   },
   "outputs": [],
   "source": [
    "filter(arrange(summarise(group_by(taxi_df, pickup_nhood, dropoff_nhood), Num = n(), ave_tip_pct = mean(tip_pct)), desc(ave_tip_pct)), Num >= 10)"
   ]
  },
  {
   "cell_type": "markdown",
   "metadata": {},
   "source": [
    "\n",
    "---\n",
    "\n",
    "![damn](http://www.ohmagif.com/wp-content/uploads/2015/01/lemme-go-out-for-a-walk-oh-no-shit.gif)\n",
    "\n",
    "## Reformatted\n",
    "\n"
   ]
  },
  {
   "cell_type": "code",
   "execution_count": null,
   "metadata": {
    "autoscroll": false,
    "collapsed": true
   },
   "outputs": [],
   "source": [
    "filter(\n",
    "  arrange(\n",
    "    summarise(\n",
    "      group_by(taxi_df,\n",
    "               pickup_nhood, dropoff_nhood),\n",
    "      Num = n(),\n",
    "      ave_tip_pct = mean(tip_pct)),\n",
    "    desc(ave_tip_pct)),\n",
    "  Num >= 10)"
   ]
  },
  {
   "cell_type": "markdown",
   "metadata": {},
   "source": [
    "\n",
    "## Magrittr\n",
    "\n",
    "![](https://github.com/smbache/magrittr/raw/master/inst/logo.png)\n",
    "\n",
    "* Inspired by unix `|`, and F# forward pipe `|>`, `magrittr` introduces the funny character (`%>%`, the _then_ operator)\n",
    "* `%>%` pipes the object on the left hand side to the first argument of the function on the right hand side\n",
    "* Every function in `dplyr` has a slot for `data.frame/tbl` as it's first argument, so this works beautifully!\n",
    "\n",
    "## Put that Function in Your Pipe and...\n",
    "\n"
   ]
  },
  {
   "cell_type": "code",
   "execution_count": null,
   "metadata": {
    "autoscroll": false,
    "collapsed": true
   },
   "outputs": [],
   "source": [
    "taxi_df %>%\n",
    "  group_by(pickup_nhood, dropoff_nhood) %>%\n",
    "  summarize(Num = n(),\n",
    "            ave_tip_pct = mean(tip_pct)) %>%\n",
    "  arrange(desc(ave_tip_pct)) %>%\n",
    "  filter(Num >= 10)"
   ]
  },
  {
   "cell_type": "markdown",
   "metadata": {},
   "source": [
    "\n",
    "---\n",
    "\n",
    "![hellyeah](http://i.giphy.com/lF1XZv45kIwMw.gif)\n",
    "\n",
    "## Pipe + group_by()\n",
    "\n",
    "* The pipe operator is very helpful for group by summaries\n",
    "* Let's calculate average tip amount, and average trip distance, controlling for dropoff day of the week and dropoff location\n",
    "* First filter with the vector `manhattan_hoods`\n",
    "\n",
    "---\n",
    "\n"
   ]
  },
  {
   "cell_type": "code",
   "execution_count": null,
   "metadata": {
    "autoscroll": false,
    "collapsed": true
   },
   "outputs": [],
   "source": [
    "mht_url <- \"http://alizaidi.blob.core.windows.net/training/manhattan.rds\"\n",
    "manhattan_hoods <- readRDS(gzcon(url(mht_url)))\n",
    "taxi_df %>%\n",
    "  filter(pickup_nhood %in% manhattan_hoods,\n",
    "         dropoff_nhood %in% manhattan_hoods) %>%\n",
    "  group_by(dropoff_nhood, pickup_nhood) %>%\n",
    "  summarize(ave_tip = mean(tip_pct),\n",
    "            ave_dist = mean(trip_distance)) %>%\n",
    "  filter(ave_dist > 3, ave_tip > 0.05)"
   ]
  },
  {
   "cell_type": "markdown",
   "metadata": {},
   "source": [
    "\n",
    "## Pipe and Plot\n",
    "\n",
    "Piping is not limited to dplyr functions, can be used everywhere!\n",
    "\n"
   ]
  },
  {
   "cell_type": "code",
   "execution_count": null,
   "metadata": {
    "Rmd_chunk_options": "eval = FALSE, fig.height = 8, fig.width = 8",
    "autoscroll": false,
    "collapsed": true
   },
   "outputs": [],
   "source": [
    "library(ggplot2)\n",
    "taxi_df %>%\n",
    "  filter(pickup_nhood %in% manhattan_hoods,\n",
    "         dropoff_nhood %in% manhattan_hoods) %>%\n",
    "  group_by(dropoff_nhood, pickup_nhood) %>%\n",
    "  summarize(ave_tip = mean(tip_pct),\n",
    "            ave_dist = mean(trip_distance)) %>%\n",
    "  filter(ave_dist > 3, ave_tip > 0.05) %>%\n",
    "  ggplot(aes(x = pickup_nhood, y = dropoff_nhood)) +\n",
    "    geom_tile(aes(fill = ave_tip), colour = \"white\") +\n",
    "    theme_bw() +\n",
    "    theme(axis.text.x = element_text(angle = 45, hjust = 1),\n",
    "          legend.position = 'bottom') +\n",
    "    scale_fill_gradient(low = \"white\", high = \"steelblue\")\n",
    ""
   ]
  },
  {
   "cell_type": "markdown",
   "metadata": {},
   "source": [
    "\n",
    "---\n",
    "\n"
   ]
  },
  {
   "cell_type": "code",
   "execution_count": null,
   "metadata": {
    "Rmd_chunk_options": "echo = FALSE, fig.height = 8, fig.width = 8",
    "autoscroll": false,
    "collapsed": true
   },
   "outputs": [],
   "source": [
    "library(ggplot2)\n",
    "taxi_df %>%\n",
    "  filter(pickup_nhood %in% manhattan_hoods,\n",
    "         dropoff_nhood %in% manhattan_hoods) %>%\n",
    "  group_by(dropoff_nhood, pickup_nhood) %>%\n",
    "  summarize(ave_tip = mean(tip_pct),\n",
    "            ave_dist = mean(trip_distance)) %>%\n",
    "  filter(ave_dist > 3, ave_tip > 0.05) %>%\n",
    "  ggplot(aes(x = pickup_nhood, y = dropoff_nhood)) +\n",
    "    geom_tile(aes(fill = ave_tip), colour = \"white\") +\n",
    "    theme_bw() +\n",
    "    theme(axis.text.x = element_text(angle = 45, hjust = 1),\n",
    "          legend.position = 'bottom') +\n",
    "    scale_fill_gradient(low = \"white\", high = \"steelblue\")\n",
    ""
   ]
  },
  {
   "cell_type": "markdown",
   "metadata": {},
   "source": [
    "\n",
    "\n",
    "## Piping to other arguments\n",
    "\n",
    "* Although `dplyr` takes great care to make it particularly amenable to piping, other functions may not reserve the first argument to the object you are passing into it.\n",
    "* You can use the special `.` placeholder to specify where the object should enter\n",
    "\n"
   ]
  },
  {
   "cell_type": "code",
   "execution_count": null,
   "metadata": {
    "autoscroll": false,
    "collapsed": true
   },
   "outputs": [],
   "source": [
    "taxi_df %>%\n",
    "  filter(pickup_nhood %in% manhattan_hoods,\n",
    "         dropoff_nhood %in% manhattan_hoods) %>%\n",
    "  group_by(dropoff_nhood, pickup_nhood) %>%\n",
    "  summarize(ave_tip = mean(tip_pct),\n",
    "            ave_dist = mean(trip_distance)) %>%\n",
    "  lm(ave_tip ~ ave_dist, data = .) -> taxi_model\n",
    "summary(taxi_model)"
   ]
  },
  {
   "cell_type": "markdown",
   "metadata": {},
   "source": [
    "\n",
    "## Exercise\n",
    "\n",
    "Your turn:\n",
    "\n",
    "* Use the pipe operator to group by day of week and dropoff neighborhood\n",
    "* Filter to Manhattan neighborhoods\n",
    "* Make tile plot with average fare amount in dollars as the fill\n",
    "\n",
    "# Functional Programming\n",
    "\n",
    "## Creating Functional Pipelines\n",
    "### Too Many Pipes?\n",
    "\n",
    "![whoaaaaaaaaahhhhh](http://www.ohmagif.com/wp-content/uploads/2015/02/the-scariest-electrical-repair-ever.gif)\n",
    "\n",
    "---\n",
    "\n",
    "### Reusable code\n",
    "\n",
    "* The examples above create a rather messy pipeline operation\n",
    "* Can be very hard to debug\n",
    "* The operation is pretty readable, but lacks reusability\n",
    "* Since R is a functional language, we benefit by splitting these operations into functions and calling them separately\n",
    "* This allows resuability; don't write the same code twice!\n",
    "\n",
    "## Functional Pipelines\n",
    "### Summarization\n",
    "\n",
    "* Let's create a function that takes an argument for the data, and applies the summarization by neighborhood to calculate average tip and trip distance\n",
    "\n",
    "---\n",
    "\n"
   ]
  },
  {
   "cell_type": "code",
   "execution_count": null,
   "metadata": {
    "autoscroll": false,
    "collapsed": true
   },
   "outputs": [],
   "source": [
    "taxi_hood_sum <- function(taxi_data = taxi_df) {\n",
    "\n",
    "  mht_url <- \"http://alizaidi.blob.core.windows.net/training/manhattan.rds\"\n",
    "\n",
    "  manhattan_hoods <- readRDS(gzcon(url(mht_url)))\n",
    "  taxi_data %>%\n",
    "    filter(pickup_nhood %in% manhattan_hoods,\n",
    "           dropoff_nhood %in% manhattan_hoods) %>%\n",
    "    group_by(dropoff_nhood, pickup_nhood) %>%\n",
    "    summarize(ave_tip = mean(tip_pct),\n",
    "              ave_dist = mean(trip_distance)) %>%\n",
    "    filter(ave_dist > 3, ave_tip > 0.05) -> sum_df\n",
    "\n",
    "  return(sum_df)\n",
    "\n",
    "}\n",
    ""
   ]
  },
  {
   "cell_type": "markdown",
   "metadata": {},
   "source": [
    "\n",
    "## Functional Pipelines\n",
    "\n",
    "### Plotting Function\n",
    "\n",
    "* We can create a second function for the plot\n",
    "\n"
   ]
  },
  {
   "cell_type": "code",
   "execution_count": null,
   "metadata": {
    "autoscroll": false,
    "collapsed": true
   },
   "outputs": [],
   "source": [
    "tile_plot_hood <- function(df = taxi_hood_sum()) {\n",
    "\n",
    "  library(ggplot2)\n",
    "\n",
    "  ggplot(data = df, aes(x = pickup_nhood, y = dropoff_nhood)) +\n",
    "    geom_tile(aes(fill = ave_tip), colour = \"white\") +\n",
    "    theme_bw() +\n",
    "    theme(axis.text.x = element_text(angle = 45, hjust = 1),\n",
    "          legend.position = 'bottom') +\n",
    "    scale_fill_gradient(low = \"white\", high = \"steelblue\") -> gplot\n",
    "\n",
    "  return(gplot)\n",
    "}\n",
    ""
   ]
  },
  {
   "cell_type": "markdown",
   "metadata": {},
   "source": [
    "\n",
    "## Calling Our Pipeline\n",
    "\n",
    "* Now we can create our plot by simply calling our two functions\n",
    "\n"
   ]
  },
  {
   "cell_type": "code",
   "execution_count": null,
   "metadata": {
    "Rmd_chunk_options": "fig.height = 8, fig.width = 8",
    "autoscroll": false,
    "collapsed": true
   },
   "outputs": [],
   "source": [
    "library(plotly)\n",
    "taxi_hood_sum(taxi_df) %>% tile_plot_hood %>% ggplotly"
   ]
  },
  {
   "cell_type": "markdown",
   "metadata": {},
   "source": [
    "\n",
    "Let's make that baby interactive.\n",
    "\n",
    "## Creating Complex Pipelines with do\n",
    "\n",
    "* The `summarize` function is fun, can summarize many numeric/scalar quantities\n",
    "* But what if you want multiple values/rows back, not just a scalar summary?\n",
    "* Meet the `do` verb -- arbitrary `tbl` operations\n",
    "\n",
    "---\n",
    "\n"
   ]
  },
  {
   "cell_type": "code",
   "execution_count": null,
   "metadata": {
    "autoscroll": false,
    "collapsed": true
   },
   "outputs": [],
   "source": [
    "taxi_df %>% group_by(dropoff_dow) %>%\n",
    "  filter(!is.na(dropoff_nhood), !is.na(pickup_nhood)) %>%\n",
    "  arrange(desc(tip_pct)) %>%\n",
    "  do(slice(., 1:2)) %>%\n",
    "  select(dropoff_dow, tip_amount, tip_pct,\n",
    "         fare_amount, dropoff_nhood, pickup_nhood)"
   ]
  },
  {
   "cell_type": "markdown",
   "metadata": {},
   "source": [
    "\n",
    "## Estimating Multiple Models with do\n",
    "\n",
    "* A common use of `do` is to calculate many different models by a grouping variable\n",
    "\n"
   ]
  },
  {
   "cell_type": "code",
   "execution_count": null,
   "metadata": {
    "autoscroll": false,
    "collapsed": true
   },
   "outputs": [],
   "source": [
    "dow_lms <- taxi_df %>% sample_n(10^4) %>%\n",
    "  group_by(dropoff_dow) %>%\n",
    "  do(lm_tip = lm(tip_pct ~ pickup_nhood + passenger_count + pickup_hour,\n",
    "     data = .))"
   ]
  },
  {
   "cell_type": "markdown",
   "metadata": {},
   "source": [
    "\n",
    "---\n",
    "\n"
   ]
  },
  {
   "cell_type": "code",
   "execution_count": null,
   "metadata": {
    "autoscroll": false,
    "collapsed": true
   },
   "outputs": [],
   "source": [
    "dow_lms"
   ]
  },
  {
   "cell_type": "markdown",
   "metadata": {},
   "source": [
    "\n",
    "\n",
    "Where are our results?\n",
    "![digging](http://i.giphy.com/oEnTTI3ZdK6ic.gif)\n",
    "\n",
    "## Cleaning Output\n",
    "\n"
   ]
  },
  {
   "cell_type": "code",
   "execution_count": null,
   "metadata": {
    "autoscroll": false,
    "collapsed": true
   },
   "outputs": [],
   "source": [
    "summary(dow_lms$lm_tip[[1]])\n",
    "library(broom)\n",
    "dow_lms %>% tidy(lm_tip)"
   ]
  },
  {
   "cell_type": "markdown",
   "metadata": {},
   "source": [
    "\n",
    "\n",
    "* By design, every function in `dplyr` returns a `data.frame`\n",
    "* In the example above, we get back a spooky `data.frame` with a column of `S3` `lm` objects\n",
    "* You can still modify each element as you would normally, or pass it to a `mutate` function to extract intercept or statistics\n",
    "* But there's also a very handy `broom` package for cleaning up such objects into `data.frames`\n",
    "\n",
    "## Brooming Up the Mess\n",
    "\n",
    "### Model Metrics\n"
   ]
  },
  {
   "cell_type": "code",
   "execution_count": null,
   "metadata": {
    "autoscroll": false,
    "collapsed": true
   },
   "outputs": [],
   "source": [
    "library(broom)\n",
    "taxi_df %>% sample_n(10^5) %>%\n",
    "  group_by(dropoff_dow) %>%\n",
    "  do(glance(lm(tip_pct ~ pickup_nhood + passenger_count + pickup_hour,\n",
    "     data = .)))\n",
    ""
   ]
  },
  {
   "cell_type": "markdown",
   "metadata": {},
   "source": [
    "\n",
    "### Model Coefficients\n",
    "\n",
    "The most commonly used function in the `broom` package is the `tidy` function. This will expand our data.frame and give us the model coefficients\n",
    "\n"
   ]
  },
  {
   "cell_type": "code",
   "execution_count": null,
   "metadata": {
    "autoscroll": false,
    "collapsed": true
   },
   "outputs": [],
   "source": [
    "taxi_df %>% sample_n(10^5) %>%\n",
    "  group_by(dropoff_dow) %>%\n",
    "  do(tidy(lm(tip_pct ~ pickup_nhood + passenger_count + pickup_hour,\n",
    "     data = .)))"
   ]
  },
  {
   "cell_type": "markdown",
   "metadata": {},
   "source": [
    "\n",
    "\n",
    "## Summary\n",
    "\n",
    "mutate\n",
    "\n",
    ":    Create transformations\n",
    "\n",
    "summarise\n",
    "\n",
    ":    Aggregate\n",
    "\n",
    "group_by\n",
    "\n",
    ":    Group your dataset by levels\n",
    "\n",
    "do\n",
    "\n",
    ":    Evaluate complex operations on a tbl\n",
    "\n",
    "Chaining with the `%>%` operator can result in more readable code.\n",
    "\n",
    "## What We Didn't Cover\n",
    "\n",
    "* There are many additional topics that fit well into the `dplyr` and functional programming landscape\n",
    "* There are too many to cover in one session. Fortunately, most are well documented. The most notable omissions:\n",
    "  1. Connecting to remote databases, see `vignette('databases', package = 'dplyr')`\n",
    "  2. Merging and Joins, see `vignette('two-table', package = 'dplyr')`\n",
    "  3. Programming with `dplyr`,`vignette('nse', package = 'dplyr')`\n",
    "  4. `summarize_each` and `mutate_each`\n",
    "\n",
    "## Thanks for Attending!\n",
    "\n",
    "- Any questions?\n"
   ]
  }
 ],
 "metadata": {
  "Rmd_header": {
   "author": "[Ali Zaidi, alizaidi@microsoft.com](mailto:alizaidi@microsoft.com)",
   "date": "`r format(Sys.Date(), \"%B %d, %Y\")`",
   "output": {
    "html_document": {
     "keep_md": true,
     "toc": true,
     "toc_float": true
    },
    "html_notebook": {
     "toc": true,
     "toc_float": true
    },
    "ioslides_presentation": {
     "logo": "images/clark-logo.png",
     "smaller": true,
     "widescreen": true
    },
    "revealjs::revealjs_presentation": {
     "center": true,
     "css": "slides.css",
     "incremental": true,
     "previewLinks": true,
     "reveal_plugins": [
      "zoom",
      "notes"
     ],
     "self_contained": false,
     "slideNumber": true,
     "theme": "night",
     "viewDistance": 3
    }
   },
   "title": "Introduction to R: _Functional, Object-Based Computing for Data Analysis_"
  },
  "kernelspec": {
   "display_name": "R",
   "language": "R",
   "name": "ir"
  },
  "language_info": {
   "codemirror_mode": "r",
   "file_extension": ".r",
   "mimetype": "text/x-r-source",
   "name": "R",
   "pygments_lexer": "r"
  }
 },
 "nbformat": 4,
 "nbformat_minor": 0
}
